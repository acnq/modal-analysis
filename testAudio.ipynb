{
 "cells": [
  {
   "cell_type": "code",
   "execution_count": 1,
   "metadata": {},
   "outputs": [],
   "source": [
    "# def playMode(lamda, alpha, beta):\n",
    "    \n",
    "# lamda = 7635274\n",
    "# alpha = 0.000000625\n",
    "# beta = 0.000008"
   ]
  },
  {
   "cell_type": "code",
   "execution_count": 2,
   "metadata": {},
   "outputs": [],
   "source": [
    "import pyaudio\n",
    "import numpy as np\n",
    "import math"
   ]
  },
  {
   "cell_type": "markdown",
   "metadata": {},
   "source": [
    "#### Basic Parameters\n",
    "$$\n",
    "\\omega = \\sqrt \\lambda \\\\\n",
    "\\xi = \\frac{\\alpha + \\beta \\lambda}{2\\omega} \\\\\n",
    "\\omega_d = \\omega\\sqrt{1- \\xi^2}\n",
    "$$"
   ]
  },
  {
   "cell_type": "code",
   "execution_count": 3,
   "metadata": {},
   "outputs": [],
   "source": [
    "lamda = 7635274.24\n",
    "alpha = 0.000000625\n",
    "beta = 0.000008\n",
    "\n",
    "fs = 44100       # sampling rate, Hz, must be integer\n",
    "duration = 1.0   # in seconds, may be float\n",
    "\n",
    "omega = math.sqrt(lamda)\n",
    "# freq = omega / 2 / np.pi\n",
    "ksi = (alpha + beta * lamda) / 2 / omega\n",
    "omega_d = omega * math.sqrt(1 - ksi * ksi)\n"
   ]
  },
  {
   "cell_type": "code",
   "execution_count": 4,
   "metadata": {},
   "outputs": [
    {
     "name": "stdout",
     "output_type": "stream",
     "text": [
      "2763.2\n",
      "2763.031212523194\n"
     ]
    }
   ],
   "source": [
    "print(omega)\n",
    "print(omega_d)"
   ]
  },
  {
   "cell_type": "markdown",
   "metadata": {},
   "source": [
    "#### Construct Samples\n",
    "$$\n",
    "q(t) = \\underbrace{\\frac 1 {\\omega_d} e^{-\\xi \\omega t}}_\\text{scale or amplitude} \\sin (\\omega_d t)\n",
    "$$"
   ]
  },
  {
   "cell_type": "code",
   "execution_count": 5,
   "metadata": {},
   "outputs": [],
   "source": [
    "time = np.arange(fs * duration) / fs\n",
    "scale = np.exp(time * (-1) * ksi * omega)\n",
    "# scale = 1 / omega_d * np.exp(time * (-1) * ksi * omega)   # 单个模态也乘上1/omgega_d会让声音特别小"
   ]
  },
  {
   "cell_type": "code",
   "execution_count": 6,
   "metadata": {},
   "outputs": [
    {
     "name": "stdout",
     "output_type": "stream",
     "text": [
      "[1.         0.9993077  0.99861588 ... 0.03140991 0.03138817 0.03136644]\n"
     ]
    }
   ],
   "source": [
    "print(scale[:5000])"
   ]
  },
  {
   "cell_type": "code",
   "execution_count": 7,
   "metadata": {},
   "outputs": [],
   "source": [
    "# generate samples, note conversion to float32 array\n",
    "samples = (np.sin( omega_d * time) * scale).astype(np.float32)"
   ]
  },
  {
   "cell_type": "code",
   "execution_count": 8,
   "metadata": {},
   "outputs": [
    {
     "data": {
      "text/plain": [
       "array([ 0.0000000e+00,  6.2569439e-02,  1.2480688e-01, ...,\n",
       "       -5.3628305e-14, -5.4122617e-14, -5.4403974e-14], dtype=float32)"
      ]
     },
     "execution_count": 8,
     "metadata": {},
     "output_type": "execute_result"
    }
   ],
   "source": [
    "samples"
   ]
  },
  {
   "cell_type": "markdown",
   "metadata": {},
   "source": [
    "#### Play"
   ]
  },
  {
   "cell_type": "code",
   "execution_count": 9,
   "metadata": {},
   "outputs": [],
   "source": [
    "# original samples\n",
    "# samples = (np.sin( 2 * np.pi * freq * np.arange(fs * duration) / fs)).astype(np.float32)\n",
    "\n",
    "# for paFloat32 sample values must be in range [-1.0, 1.0]\n",
    "p = pyaudio.PyAudio()\n",
    "stream = p.open(format=pyaudio.paFloat32,\n",
    "                channels=1,\n",
    "                rate=fs,\n",
    "                output=True)\n",
    "\n",
    "# play\n",
    "stream.write(samples.tobytes())\n",
    "\n",
    "stream.stop_stream()\n",
    "stream.close()\n",
    "\n",
    "p.terminate()"
   ]
  },
  {
   "cell_type": "markdown",
   "metadata": {},
   "source": [
    "#### Save to wav"
   ]
  },
  {
   "cell_type": "code",
   "execution_count": null,
   "metadata": {},
   "outputs": [],
   "source": [
    "# save to wav file\n",
    "from scipy.io.wavfile import write\n",
    "write('./test.wav', fs, samples)"
   ]
  }
 ],
 "metadata": {
  "interpreter": {
   "hash": "ecf5722fdaf1897a315d257d89d94520bfcaa453217d5becf09b39e73618b0de"
  },
  "kernelspec": {
   "display_name": "Python 3.7.7 ('base')",
   "language": "python",
   "name": "python3"
  },
  "language_info": {
   "codemirror_mode": {
    "name": "ipython",
    "version": 3
   },
   "file_extension": ".py",
   "mimetype": "text/x-python",
   "name": "python",
   "nbconvert_exporter": "python",
   "pygments_lexer": "ipython3",
   "version": "3.7.7"
  },
  "orig_nbformat": 4
 },
 "nbformat": 4,
 "nbformat_minor": 2
}
