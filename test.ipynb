{
 "cells": [
  {
   "cell_type": "code",
   "execution_count": 20,
   "metadata": {},
   "outputs": [
    {
     "name": "stdout",
     "output_type": "stream",
     "text": [
      "not\n"
     ]
    }
   ],
   "source": [
    "a = 1\n",
    "if( not a == 1):\n",
    "    print('hello')\n",
    "else: \n",
    "    print('not')"
   ]
  }
 ],
 "metadata": {
  "interpreter": {
   "hash": "23248286c38324c79c912bdc75eb1b9017aad5637c4fe83ce2a701dfbf548004"
  },
  "kernelspec": {
   "display_name": "Python 3.7.7 ('modaldemo')",
   "language": "python",
   "name": "python3"
  },
  "language_info": {
   "codemirror_mode": {
    "name": "ipython",
    "version": 3
   },
   "file_extension": ".py",
   "mimetype": "text/x-python",
   "name": "python",
   "nbconvert_exporter": "python",
   "pygments_lexer": "ipython3",
   "version": "3.7.7"
  },
  "orig_nbformat": 4
 },
 "nbformat": 4,
 "nbformat_minor": 2
}
